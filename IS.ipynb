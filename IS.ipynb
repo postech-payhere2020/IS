{
 "cells": [
  {
   "cell_type": "code",
   "execution_count": 1,
   "metadata": {},
   "outputs": [],
   "source": [
    "import sqlite3\n",
    "import pandas as pd\n",
    "from pandas import Series, DataFrame"
   ]
  },
  {
   "cell_type": "code",
   "execution_count": 2,
   "metadata": {},
   "outputs": [],
   "source": [
    "_public_key = #"
   ]
  },
  {
   "cell_type": "code",
   "execution_count": null,
   "metadata": {},
   "outputs": [],
   "source": []
  },
  {
   "cell_type": "markdown",
   "metadata": {},
   "source": [
    "## 04. 예금주명 \n",
    "https://developer.codef.io/products/bank/common/etc/accountHolder"
   ]
  },
  {
   "cell_type": "code",
   "execution_count": 1,
   "metadata": {
    "scrolled": true
   },
   "outputs": [
    {
     "name": "stdout",
     "output_type": "stream",
     "text": [
      "paramter: {'organization': '0020', 'account': '1002000111222'} \n",
      "\n",
      "result: {\"result\": {\"code\": \"CF-00000\", \"extraMessage\": \"\", \"message\": \"성공\", \"transactionId\": \"773a8546a7b148f4a68e38413ba11205\"}, \"data\": {\"name\": \"코뿔소\"}} \n",
      "\n",
      "data \": {\"name\": \"코뿔소\"}} \n",
      "\n",
      "DB:  {'organization': '0020', 'account': '1002000111222', 'name': '코뿔소'}\n"
     ]
    }
   ],
   "source": [
    "%run 07_product/04_account_holder.py -- _public_key "
   ]
  },
  {
   "cell_type": "code",
   "execution_count": null,
   "metadata": {},
   "outputs": [],
   "source": []
  },
  {
   "cell_type": "code",
   "execution_count": 2,
   "metadata": {},
   "outputs": [
    {
     "name": "stdout",
     "output_type": "stream",
     "text": [
      "(0, '0020', '1002000111222', '코뿔소')\n"
     ]
    }
   ],
   "source": [
    "##SQLITE QUERY\n",
    "c=conn.cursor()\n",
    "sql4=\"SELECT * FROM account_holder WHERE organization= :organization AND account= :account\"\n",
    "c.execute(sql4, {'organization': '0020', 'account': '1002000111222'}) #입력값\n",
    "\n",
    "for row in c.fetchall():\n",
    "    print(row)"
   ]
  },
  {
   "cell_type": "markdown",
   "metadata": {},
   "source": [
    "## 05. 예금주명인증(실명인증) API  \n",
    "https://developer.codef.io/products/bank/common/etc/accountHolderAuth"
   ]
  },
  {
   "cell_type": "code",
   "execution_count": 3,
   "metadata": {
    "scrolled": true
   },
   "outputs": [
    {
     "name": "stdout",
     "output_type": "stream",
     "text": [
      "paramter: {'organization': '0020', 'account': '1002000111222', 'identity': '900101'} \n",
      "\n",
      "result: {\"result\": {\"code\": \"CF-00000\", \"extraMessage\": \"\", \"message\": \"성공\", \"transactionId\": \"773a8546a7b148f4a68e38413ba11205\"}, \"data\": {\"name\": \"코뿔소\"}} \n",
      "\n",
      "data \": {\"name\": \"코뿔소\"}} \n",
      "\n",
      "DB:  {'organization': '0020', 'account': '1002000111222', 'identity': '900101', 'name': '코뿔소'}\n"
     ]
    }
   ],
   "source": [
    "%run 07_product/05_account_holder_authentication.py -- _public_key "
   ]
  },
  {
   "cell_type": "code",
   "execution_count": null,
   "metadata": {},
   "outputs": [],
   "source": []
  },
  {
   "cell_type": "code",
   "execution_count": 4,
   "metadata": {},
   "outputs": [
    {
     "name": "stdout",
     "output_type": "stream",
     "text": [
      "(0, '0020', '1002000111222', '900101', '코뿔소')\n"
     ]
    }
   ],
   "source": [
    "##SQLITE QUERY\n",
    "c=conn.cursor()\n",
    "sql5=\"SELECT * FROM account_holder_authentication WHERE organization= :organization AND account= :account AND identity=:identity\"\n",
    "c.execute(sql5, {'organization': '0020', 'account': '1002000111222', 'identity': '900101'}) #입력값\n",
    "\n",
    "for row in c.fetchall():\n",
    "    print(row)"
   ]
  },
  {
   "cell_type": "code",
   "execution_count": null,
   "metadata": {},
   "outputs": [],
   "source": []
  }
 ],
 "metadata": {
  "kernelspec": {
   "display_name": "Python 3",
   "language": "python",
   "name": "python3"
  },
  "language_info": {
   "codemirror_mode": {
    "name": "ipython",
    "version": 3
   },
   "file_extension": ".py",
   "mimetype": "text/x-python",
   "name": "python",
   "nbconvert_exporter": "python",
   "pygments_lexer": "ipython3",
   "version": "3.7.9"
  }
 },
 "nbformat": 4,
 "nbformat_minor": 4
}
