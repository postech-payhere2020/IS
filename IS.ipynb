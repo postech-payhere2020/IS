{
 "cells": [
  {
   "cell_type": "markdown",
   "metadata": {},
   "source": [
    "# 하는법\n",
    "1. https://developer.codef.io/products 에서 원하는 메뉴 접속\n",
    "2. Endpoint 뒤에 (예시) /v1/kr/public/nt/hometax-certificate/status 복사\n",
    "3. 오른쪽input python code 복사해서 (input 값에 따라 sandbox는 변화는 없지만)\n",
    "4. 07_product/main.py 코드 가서 endpoint 뒤에 꺼랑 parameter 넣어주면 결과 나옴\n",
    "5. 결과중에 result는 data 가 output"
   ]
  },
  {
   "cell_type": "code",
   "execution_count": 2,
   "metadata": {},
   "outputs": [],
   "source": [
    "_public_key = #enter your pulbic key for SANDBOX
   ]
  },
  {
   "cell_type": "markdown",
   "metadata": {},
   "source": [
    "## 04. 예금주명 \n",
    "https://developer.codef.io/products/bank/common/etc/accountHolder"
   ]
  },
  {
   "cell_type": "code",
   "execution_count": 3,
   "metadata": {
    "scrolled": false
   },
   "outputs": [
    {
     "name": "stdout",
     "output_type": "stream",
     "text": [
      "paramter: {'organization': '0020', 'account': '1002000111222'} \n",
      "\n",
      "result: {\"result\": {\"code\": \"CF-00000\", \"extraMessage\": \"\", \"message\": \"성공\", \"transactionId\": \"773a8546a7b148f4a68e38413ba11205\"}, \"data\": {\"name\": \"코뿔소\"}} \n",
      "\n",
      "data \": {\"name\": \"코뿔소\"}} \n",
      "\n",
      "DB:  {'organization': '0020', 'account': '1002000111222', 'name': '코뿔소'}\n"
     ]
    }
   ],
   "source": [
    "%run 07_product/04_account_holder.py -- _public_key "
   ]
  },
  {
   "cell_type": "markdown",
   "metadata": {},
   "source": [
    "## 05. 예금주명인증(실명인증) API  \n",
    "https://developer.codef.io/products/bank/common/etc/accountHolderAuth"
   ]
  },
  {
   "cell_type": "code",
   "execution_count": 4,
   "metadata": {
    "scrolled": true
   },
   "outputs": [
    {
     "name": "stdout",
     "output_type": "stream",
     "text": [
      "paramter: {'organization': '0020', 'account': '1002000111222', 'identity': '900101'} \n",
      "\n",
      "result: {\"result\": {\"code\": \"CF-00000\", \"extraMessage\": \"\", \"message\": \"성공\", \"transactionId\": \"773a8546a7b148f4a68e38413ba11205\"}, \"data\": {\"name\": \"코뿔소\"}} \n",
      "\n",
      "data \": {\"name\": \"코뿔소\"}} \n",
      "\n",
      "DB:  {'organization': '0020', 'account': '1002000111222', 'identity': '900101', 'name': '코뿔소'}\n"
     ]
    }
   ],
   "source": [
    "%run 07_product/05_account_holder_authentication.py -- _public_key "
   ]
  },
  {
   "cell_type": "code",
   "execution_count": null,
   "metadata": {},
   "outputs": [],
   "source": []
  }
 ],
 "metadata": {
  "kernelspec": {
   "display_name": "Python 3",
   "language": "python",
   "name": "python3"
  },
  "language_info": {
   "codemirror_mode": {
    "name": "ipython",
    "version": 3
   },
   "file_extension": ".py",
   "mimetype": "text/x-python",
   "name": "python",
   "nbconvert_exporter": "python",
   "pygments_lexer": "ipython3",
   "version": "3.7.9"
  }
 },
 "nbformat": 4,
 "nbformat_minor": 4
}
